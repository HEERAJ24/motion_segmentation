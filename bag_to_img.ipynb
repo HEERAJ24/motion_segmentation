{
 "cells": [
  {
   "cell_type": "code",
   "execution_count": 202,
   "metadata": {},
   "outputs": [],
   "source": [
    "# Imports\n",
    "\n",
    "import pandas as pd\n",
    "import re\n",
    "import numpy as np\n",
    "import matplotlib.pyplot as plt\n",
    "import cv2\n",
    "import os\n",
    "os.environ['QT_QPA_PLATFORM'] = 'xcb'\n",
    "from scipy.ndimage import median_filter\n",
    "from PIL import Image\n",
    "from sklearn.cluster import DBSCAN\n",
    "from skimage.morphology import erosion, square"
   ]
  },
  {
   "cell_type": "code",
   "execution_count": null,
   "metadata": {},
   "outputs": [],
   "source": [
    "# Use bag file after converting it to csv using rosbag\n",
    "# Replace 233 with the number of rows in the csv file\n",
    "\n",
    "df = pd.read_csv('dvs-events.csv')\n",
    "\n",
    "for i in range(0, 233):\n",
    "    x = df.iloc[i,7]\n",
    "    df_1 = pd.DataFrame([x], columns=['events'])\n",
    "    df_1.to_csv(f'events/df_{i}.csv', index=False)"
   ]
  },
  {
   "cell_type": "code",
   "execution_count": 178,
   "metadata": {},
   "outputs": [],
   "source": [
    "for i in range(0, 223):\n",
    "    df = pd.read_csv(f'df_{i}.csv')\n",
    "    def clean_event(event):\n",
    "       event = re.sub('ts: \\n  secs: \\d+\\n  nsecs:\\s+\\d+\\n', '', event)\n",
    "       return event\n",
    "    df['events'] = df['events'].apply(clean_event)\n",
    "    df.to_csv(f'df_{i}_split.csv', index=False)"
   ]
  },
  {
   "cell_type": "code",
   "execution_count": 179,
   "metadata": {},
   "outputs": [],
   "source": [
    "for i in range(0, 233):\n",
    "    df = pd.read_csv(f'df_{i}_split.csv')\n",
    "    df = df['events'].str.split(',', expand=True).stack().reset_index(level=1, drop=True).to_frame('events')\n",
    "    df.to_csv(f'df_{i}_split_rows.csv', index=False)"
   ]
  },
  {
   "cell_type": "code",
   "execution_count": 180,
   "metadata": {},
   "outputs": [],
   "source": [
    "for i in range(0, 233):\n",
    "    df = pd.read_csv(f'df_{i}_split_rows.csv')\n",
    "    pattern = r\"x: (?P<x>\\d+)\\ny: (?P<y>\\d+)\\npolarity: (?P<polarity>True|False)\"\n",
    "    df[['x', 'y', 'polarity']] = df['events'].str.extract(pattern)\n",
    "    first_column = df.columns[0]\n",
    "    df = df.drop(first_column, axis=1)\n",
    "    df.to_csv(f'numerical_0_1/df_{i}_final.csv', index=False)"
   ]
  },
  {
   "cell_type": "code",
   "execution_count": 181,
   "metadata": {},
   "outputs": [],
   "source": [
    "for i in range(0, 233):\n",
    "    df = pd.read_csv(f'numerical_0_1/df_{i}_final.csv')\n",
    "    img = np.zeros((640, 480))\n",
    "    for j in range(0, df.shape[0]):\n",
    "        if df.iloc[j, 2] == True:\n",
    "            x = int(df.iloc[j, 0])\n",
    "            y = int(df.iloc[j, 1])\n",
    "            img[x, y] = 1\n",
    "    img = (img * 255).astype(np.uint8)  \n",
    "    cv2.imwrite(f'img_{i}.png', img)"
   ]
  },
  {
   "cell_type": "code",
   "execution_count": 196,
   "metadata": {},
   "outputs": [],
   "source": [
    "# Median filter to remove noise\n",
    "for i in range(0, 233):\n",
    "    img = Image.open(f'raw_image/img_{i}.png')\n",
    "    image_array = np.array(img)\n",
    "    filtered_image_array = median_filter(image_array, size=7)\n",
    "    white_pixel_indices = np.where(filtered_image_array == 255)\n",
    "    \n",
    "    if white_pixel_indices[0].size > 0:\n",
    "        min_y, max_y = np.min(white_pixel_indices[0]), np.max(white_pixel_indices[0])\n",
    "        min_x, max_x = np.min(white_pixel_indices[1]), np.max(white_pixel_indices[1])\n",
    "\n",
    "        cv2.rectangle(image_array, (min_x, min_y), (max_x, max_y), (255, 0, 0), 2)\n",
    "\n",
    "        filtered_image = Image.fromarray(image_array)\n",
    "        filtered_image.save(f'annotated_image/img_{i}.png')\n",
    "    else:\n",
    "        img.save(f'annotated_image/img_{i}.png')\n",
    "  "
   ]
  },
  {
   "cell_type": "code",
   "execution_count": 200,
   "metadata": {},
   "outputs": [],
   "source": [
    "# Median filter and DBSCAN\n",
    "for i in range(0, 233):\n",
    "    img = Image.open(f'raw_image/img_{i}.png')\n",
    "    image_array = np.array(img)\n",
    "    filtered_image_array = median_filter(image_array, size=7)\n",
    "    white_pixel_indices = np.where(filtered_image_array == 255)\n",
    "    \n",
    "    if white_pixel_indices[0].size > 0:\n",
    "        data = np.array(list(zip(white_pixel_indices[1], white_pixel_indices[0])))\n",
    "\n",
    "        dbscan = DBSCAN(eps=4, min_samples=2)\n",
    "        dbscan.fit(data)\n",
    "\n",
    "        unique_labels = set(dbscan.labels_)\n",
    "\n",
    "        for label in unique_labels:\n",
    "            cluster_indices = np.where(dbscan.labels_ == label)\n",
    "\n",
    "            min_y, max_y = np.min(data[cluster_indices, 1]), np.max(data[cluster_indices, 1])\n",
    "            min_x, max_x = np.min(data[cluster_indices, 0]), np.max(data[cluster_indices, 0])\n",
    "\n",
    "            cv2.rectangle(image_array, (min_x, min_y), (max_x, max_y), (255, 0, 0), 2)\n",
    "\n",
    "        filtered_image = Image.fromarray(image_array)\n",
    "        filtered_image.save(f'cluster/img_{i}.png')\n",
    "    else:\n",
    "        img.save(f'cluster/img_{i}.png')"
   ]
  },
  {
   "cell_type": "code",
   "execution_count": 208,
   "metadata": {},
   "outputs": [],
   "source": [
    "# Erosion and DBSCAN\n",
    "for i in range(0, 233):\n",
    "    img = Image.open(f'raw_image/img_{i}.png')\n",
    "    image_array = np.array(img)\n",
    "    eroded_image_array = erosion(image_array, square(4))\n",
    "    \n",
    "    white_pixel_indices = np.where(eroded_image_array == 255)\n",
    "    \n",
    "    if white_pixel_indices[0].size > 0:\n",
    "        data = np.array(list(zip(white_pixel_indices[1], white_pixel_indices[0])))\n",
    "\n",
    "        dbscan = DBSCAN(eps=4, min_samples=2)\n",
    "        dbscan.fit(data)\n",
    "\n",
    "        unique_labels = set(dbscan.labels_)\n",
    "\n",
    "        for label in unique_labels:\n",
    "            cluster_indices = np.where(dbscan.labels_ == label)\n",
    "\n",
    "            min_y, max_y = np.min(data[cluster_indices, 1]), np.max(data[cluster_indices, 1])\n",
    "            min_x, max_x = np.min(data[cluster_indices, 0]), np.max(data[cluster_indices, 0])\n",
    "\n",
    "            cv2.rectangle(image_array, (min_x, min_y), (max_x, max_y), (255, 0, 0), 2)\n",
    "\n",
    "        filtered_image = Image.fromarray(image_array)\n",
    "        filtered_image.save(f'cluster/img_{i}.png')\n",
    "    else:\n",
    "        img.save(f'cluster/img_{i}.png')"
   ]
  }
 ],
 "metadata": {
  "kernelspec": {
   "display_name": "Python 3",
   "language": "python",
   "name": "python3"
  },
  "language_info": {
   "codemirror_mode": {
    "name": "ipython",
    "version": 3
   },
   "file_extension": ".py",
   "mimetype": "text/x-python",
   "name": "python",
   "nbconvert_exporter": "python",
   "pygments_lexer": "ipython3",
   "version": "3.10.12"
  }
 },
 "nbformat": 4,
 "nbformat_minor": 2
}
